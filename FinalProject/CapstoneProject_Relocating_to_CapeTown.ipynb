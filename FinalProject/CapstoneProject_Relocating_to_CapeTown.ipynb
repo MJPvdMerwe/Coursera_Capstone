{
 "cells": [
  {
   "cell_type": "markdown",
   "metadata": {},
   "source": [
    "# Relocating to Cape Town, South Africa\n",
    "\n",
    "Coursera IBM Data Science specialization capstone project Report"
   ]
  },
  {
   "cell_type": "markdown",
   "metadata": {},
   "source": [
    "## 1. Introduction & Purpose\n",
    "### 1.1 Introduction:\n",
    "Currently I’m living in Margate, South Africa, situated on the south-eastern coastline of KwaZulu Natal.\n",
    "I have accepted a new work opportunity and would have to relocate to Cape Town, South Africa, situated on the southern coastline of West Cape. \n",
    "### 1.2 Purpose:\n",
    "Finding a neighbourhood within Cape Town that offer similar or  better characteristics to my current environment in Margate.\n",
    "### 1.3 Target Audience:\n",
    "This study is for my personal use, but the analysis is generic and could be useful to a broader audience."
   ]
  },
  {
   "cell_type": "code",
   "execution_count": null,
   "metadata": {},
   "outputs": [],
   "source": []
  }
 ],
 "metadata": {
  "kernelspec": {
   "display_name": "Python 3",
   "language": "python",
   "name": "python3"
  },
  "language_info": {
   "codemirror_mode": {
    "name": "ipython",
    "version": 3
   },
   "file_extension": ".py",
   "mimetype": "text/x-python",
   "name": "python",
   "nbconvert_exporter": "python",
   "pygments_lexer": "ipython3",
   "version": "3.7.1"
  }
 },
 "nbformat": 4,
 "nbformat_minor": 2
}
